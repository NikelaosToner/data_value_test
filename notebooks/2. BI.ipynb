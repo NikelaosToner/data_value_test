{
 "cells": [
  {
   "cell_type": "markdown",
   "id": "0b4b796f",
   "metadata": {},
   "source": [
    "# Loading Libraries"
   ]
  },
  {
   "cell_type": "code",
   "execution_count": 1,
   "id": "b9d6c94a",
   "metadata": {},
   "outputs": [],
   "source": [
    "import pandas as pd\n",
    "import plotly.express as px\n",
    "import os\n",
    "import statsmodels\n",
    "from datetime import date\n",
    "import copy\n",
    "os.chdir('/home/code/')"
   ]
  },
  {
   "cell_type": "markdown",
   "id": "3213a76c",
   "metadata": {},
   "source": [
    "# Loading dfs"
   ]
  },
  {
   "cell_type": "code",
   "execution_count": 2,
   "id": "0ceb0884",
   "metadata": {},
   "outputs": [],
   "source": [
    "sales = pd.read_parquet('sales.parquet')\n",
    "customers = pd.read_parquet('customers.parquet')\n",
    "items = pd.read_parquet('items.parquet')\n",
    "cities = pd.read_parquet('cities.parquet')\n"
   ]
  },
  {
   "cell_type": "markdown",
   "id": "ec1a3d6f",
   "metadata": {},
   "source": [
    "# Exploring dfs"
   ]
  },
  {
   "cell_type": "code",
   "execution_count": 3,
   "id": "2d134df2",
   "metadata": {},
   "outputs": [
    {
     "data": {
      "text/html": [
       "<div>\n",
       "<style scoped>\n",
       "    .dataframe tbody tr th:only-of-type {\n",
       "        vertical-align: middle;\n",
       "    }\n",
       "\n",
       "    .dataframe tbody tr th {\n",
       "        vertical-align: top;\n",
       "    }\n",
       "\n",
       "    .dataframe thead th {\n",
       "        text-align: right;\n",
       "    }\n",
       "</style>\n",
       "<table border=\"1\" class=\"dataframe\">\n",
       "  <thead>\n",
       "    <tr style=\"text-align: right;\">\n",
       "      <th></th>\n",
       "      <th>ticketNumber</th>\n",
       "      <th>date</th>\n",
       "      <th>ticketNumberDetail</th>\n",
       "      <th>itemID</th>\n",
       "      <th>paymentMethod</th>\n",
       "      <th>value</th>\n",
       "      <th>customerID</th>\n",
       "      <th>createdBy</th>\n",
       "      <th>discount</th>\n",
       "      <th>idType</th>\n",
       "      <th>storeID</th>\n",
       "      <th>salesID</th>\n",
       "    </tr>\n",
       "  </thead>\n",
       "  <tbody>\n",
       "    <tr>\n",
       "      <th>0</th>\n",
       "      <td>183C93C6-08CB-EB11-B636-AC82478FB6A9</td>\n",
       "      <td>2021-06-11</td>\n",
       "      <td>None</td>\n",
       "      <td>NaN</td>\n",
       "      <td>None</td>\n",
       "      <td>NaN</td>\n",
       "      <td>None</td>\n",
       "      <td>None</td>\n",
       "      <td>NaN</td>\n",
       "      <td>None</td>\n",
       "      <td>10</td>\n",
       "      <td>183C93C6-08CB-EB11-B636-AC82478FB6A9</td>\n",
       "    </tr>\n",
       "    <tr>\n",
       "      <th>1</th>\n",
       "      <td>A938A208-09CB-EB11-B638-AC82478FA8AD</td>\n",
       "      <td>2021-06-11</td>\n",
       "      <td>None</td>\n",
       "      <td>NaN</td>\n",
       "      <td>None</td>\n",
       "      <td>NaN</td>\n",
       "      <td>None</td>\n",
       "      <td>None</td>\n",
       "      <td>NaN</td>\n",
       "      <td>None</td>\n",
       "      <td>10</td>\n",
       "      <td>A938A208-09CB-EB11-B638-AC82478FA8AD</td>\n",
       "    </tr>\n",
       "    <tr>\n",
       "      <th>2</th>\n",
       "      <td>916A5D76-B4CA-EB11-B636-AC82478FB6A9</td>\n",
       "      <td>2021-06-11</td>\n",
       "      <td>7AC93ADA-B4CA-EB11-B636-AC82478FB6A9</td>\n",
       "      <td>746.0</td>\n",
       "      <td>CON</td>\n",
       "      <td>51100.0</td>\n",
       "      <td>26557317</td>\n",
       "      <td>victor</td>\n",
       "      <td>0.0</td>\n",
       "      <td>C</td>\n",
       "      <td>10</td>\n",
       "      <td>916A5D76-B4CA-EB11-B636-AC82478FB6A97AC93ADA-B...</td>\n",
       "    </tr>\n",
       "    <tr>\n",
       "      <th>3</th>\n",
       "      <td>916A5D76-B4CA-EB11-B636-AC82478FB6A9</td>\n",
       "      <td>2021-06-11</td>\n",
       "      <td>D44DFE12-B5CA-EB11-B636-AC82478FB6A9</td>\n",
       "      <td>7530.0</td>\n",
       "      <td>CON</td>\n",
       "      <td>1.0</td>\n",
       "      <td>26557317</td>\n",
       "      <td>victor</td>\n",
       "      <td>0.0</td>\n",
       "      <td>C</td>\n",
       "      <td>10</td>\n",
       "      <td>916A5D76-B4CA-EB11-B636-AC82478FB6A9D44DFE12-B...</td>\n",
       "    </tr>\n",
       "  </tbody>\n",
       "</table>\n",
       "</div>"
      ],
      "text/plain": [
       "                           ticketNumber        date  \\\n",
       "0  183C93C6-08CB-EB11-B636-AC82478FB6A9  2021-06-11   \n",
       "1  A938A208-09CB-EB11-B638-AC82478FA8AD  2021-06-11   \n",
       "2  916A5D76-B4CA-EB11-B636-AC82478FB6A9  2021-06-11   \n",
       "3  916A5D76-B4CA-EB11-B636-AC82478FB6A9  2021-06-11   \n",
       "\n",
       "                     ticketNumberDetail  itemID paymentMethod    value  \\\n",
       "0                                  None     NaN          None      NaN   \n",
       "1                                  None     NaN          None      NaN   \n",
       "2  7AC93ADA-B4CA-EB11-B636-AC82478FB6A9   746.0           CON  51100.0   \n",
       "3  D44DFE12-B5CA-EB11-B636-AC82478FB6A9  7530.0           CON      1.0   \n",
       "\n",
       "  customerID createdBy  discount idType  storeID  \\\n",
       "0       None      None       NaN   None       10   \n",
       "1       None      None       NaN   None       10   \n",
       "2   26557317    victor       0.0      C       10   \n",
       "3   26557317    victor       0.0      C       10   \n",
       "\n",
       "                                             salesID  \n",
       "0               183C93C6-08CB-EB11-B636-AC82478FB6A9  \n",
       "1               A938A208-09CB-EB11-B638-AC82478FA8AD  \n",
       "2  916A5D76-B4CA-EB11-B636-AC82478FB6A97AC93ADA-B...  \n",
       "3  916A5D76-B4CA-EB11-B636-AC82478FB6A9D44DFE12-B...  "
      ]
     },
     "execution_count": 3,
     "metadata": {},
     "output_type": "execute_result"
    }
   ],
   "source": [
    "sales.head(4)"
   ]
  },
  {
   "cell_type": "code",
   "execution_count": 4,
   "id": "8e61ebb8",
   "metadata": {},
   "outputs": [
    {
     "data": {
      "text/html": [
       "<div>\n",
       "<style scoped>\n",
       "    .dataframe tbody tr th:only-of-type {\n",
       "        vertical-align: middle;\n",
       "    }\n",
       "\n",
       "    .dataframe tbody tr th {\n",
       "        vertical-align: top;\n",
       "    }\n",
       "\n",
       "    .dataframe thead th {\n",
       "        text-align: right;\n",
       "    }\n",
       "</style>\n",
       "<table border=\"1\" class=\"dataframe\">\n",
       "  <thead>\n",
       "    <tr style=\"text-align: right;\">\n",
       "      <th></th>\n",
       "      <th>birthDate</th>\n",
       "      <th>custCreationDate</th>\n",
       "      <th>custHood</th>\n",
       "      <th>customerID</th>\n",
       "      <th>cityId</th>\n",
       "      <th>custEmail</th>\n",
       "      <th>gender</th>\n",
       "      <th>status</th>\n",
       "    </tr>\n",
       "  </thead>\n",
       "  <tbody>\n",
       "    <tr>\n",
       "      <th>2</th>\n",
       "      <td>2013-01-26 00:00:00.000</td>\n",
       "      <td>2013-01-26 00:00:00.000</td>\n",
       "      <td>None</td>\n",
       "      <td>26557317</td>\n",
       "      <td>1.0</td>\n",
       "      <td>None</td>\n",
       "      <td>0.0</td>\n",
       "      <td>1</td>\n",
       "    </tr>\n",
       "    <tr>\n",
       "      <th>4</th>\n",
       "      <td>1992-12-15 00:00:00.000</td>\n",
       "      <td>2021-03-18 00:00:00.000</td>\n",
       "      <td>None</td>\n",
       "      <td>2041175771</td>\n",
       "      <td>1.0</td>\n",
       "      <td>SINOYKARI@GMAIL.COM</td>\n",
       "      <td>1.0</td>\n",
       "      <td>1</td>\n",
       "    </tr>\n",
       "    <tr>\n",
       "      <th>7</th>\n",
       "      <td>None</td>\n",
       "      <td>2021-05-19 00:00:00.000</td>\n",
       "      <td>None</td>\n",
       "      <td>22576702</td>\n",
       "      <td>1.0</td>\n",
       "      <td>None</td>\n",
       "      <td>0.0</td>\n",
       "      <td>1</td>\n",
       "    </tr>\n",
       "    <tr>\n",
       "      <th>8</th>\n",
       "      <td>None</td>\n",
       "      <td>2013-02-13 00:00:00.000</td>\n",
       "      <td>None</td>\n",
       "      <td>691301004</td>\n",
       "      <td>1.0</td>\n",
       "      <td>secostasas@gmail.com</td>\n",
       "      <td>0.0</td>\n",
       "      <td>1</td>\n",
       "    </tr>\n",
       "  </tbody>\n",
       "</table>\n",
       "</div>"
      ],
      "text/plain": [
       "                 birthDate         custCreationDate custHood  customerID  \\\n",
       "2  2013-01-26 00:00:00.000  2013-01-26 00:00:00.000     None    26557317   \n",
       "4  1992-12-15 00:00:00.000  2021-03-18 00:00:00.000     None  2041175771   \n",
       "7                     None  2021-05-19 00:00:00.000     None    22576702   \n",
       "8                     None  2013-02-13 00:00:00.000     None   691301004   \n",
       "\n",
       "   cityId             custEmail  gender  status  \n",
       "2     1.0                  None     0.0       1  \n",
       "4     1.0   SINOYKARI@GMAIL.COM     1.0       1  \n",
       "7     1.0                  None     0.0       1  \n",
       "8     1.0  secostasas@gmail.com     0.0       1  "
      ]
     },
     "execution_count": 4,
     "metadata": {},
     "output_type": "execute_result"
    }
   ],
   "source": [
    "customers.head(4)"
   ]
  },
  {
   "cell_type": "code",
   "execution_count": 5,
   "id": "6a5472d9",
   "metadata": {},
   "outputs": [
    {
     "data": {
      "text/html": [
       "<div>\n",
       "<style scoped>\n",
       "    .dataframe tbody tr th:only-of-type {\n",
       "        vertical-align: middle;\n",
       "    }\n",
       "\n",
       "    .dataframe tbody tr th {\n",
       "        vertical-align: top;\n",
       "    }\n",
       "\n",
       "    .dataframe thead th {\n",
       "        text-align: right;\n",
       "    }\n",
       "</style>\n",
       "<table border=\"1\" class=\"dataframe\">\n",
       "  <thead>\n",
       "    <tr style=\"text-align: right;\">\n",
       "      <th></th>\n",
       "      <th>itemLine</th>\n",
       "      <th>category</th>\n",
       "      <th>itemSubline</th>\n",
       "      <th>itemID</th>\n",
       "      <th>itemLevel</th>\n",
       "      <th>itemRegulated</th>\n",
       "      <th>itemApplications</th>\n",
       "      <th>businessUnit</th>\n",
       "      <th>unitOfMeasure</th>\n",
       "      <th>itemCreationDate</th>\n",
       "      <th>brand</th>\n",
       "      <th>itemName</th>\n",
       "      <th>itemGroup</th>\n",
       "    </tr>\n",
       "  </thead>\n",
       "  <tbody>\n",
       "    <tr>\n",
       "      <th>2</th>\n",
       "      <td>VITAMINAS Y MINERALES</td>\n",
       "      <td>None</td>\n",
       "      <td>FOSFORO PREPARACIONES</td>\n",
       "      <td>746.0</td>\n",
       "      <td>GAMA BAJA</td>\n",
       "      <td>NO</td>\n",
       "      <td>GANADERÍA BOVINA</td>\n",
       "      <td>AGROPECUARIO</td>\n",
       "      <td>FCO</td>\n",
       "      <td>2012-11-21 11:37:11.000</td>\n",
       "      <td>KYROVET</td>\n",
       "      <td>KYROFOSFAN NF FCO X 100 ML</td>\n",
       "      <td>FARMACEUTICOS</td>\n",
       "    </tr>\n",
       "    <tr>\n",
       "      <th>3</th>\n",
       "      <td>IMPLEMENTOS VARIOS</td>\n",
       "      <td>None</td>\n",
       "      <td>None</td>\n",
       "      <td>7530.0</td>\n",
       "      <td>GAMA BAJA</td>\n",
       "      <td>NO</td>\n",
       "      <td>CONSUMO</td>\n",
       "      <td>CONSUMO</td>\n",
       "      <td>UND</td>\n",
       "      <td>2017-07-12 18:03:36.000</td>\n",
       "      <td>VARIOS</td>\n",
       "      <td>IMPOCONSUMO BOLSA PLASTICA</td>\n",
       "      <td>LINEA VARIOS</td>\n",
       "    </tr>\n",
       "    <tr>\n",
       "      <th>4</th>\n",
       "      <td>ALIMENTO PARA PERROS</td>\n",
       "      <td>None</td>\n",
       "      <td>SNACKS</td>\n",
       "      <td>8657.0</td>\n",
       "      <td>GAMA MEDIA</td>\n",
       "      <td>NO</td>\n",
       "      <td>MASCOTAS</td>\n",
       "      <td>MASCOTAS</td>\n",
       "      <td>UND</td>\n",
       "      <td>2019-10-02 14:59:21.000</td>\n",
       "      <td>PEDIGREE</td>\n",
       "      <td>PEDIGREE MINI BISCUIT X 100 GRMS</td>\n",
       "      <td>ALIMENTOS CONCENTRADOS</td>\n",
       "    </tr>\n",
       "    <tr>\n",
       "      <th>6</th>\n",
       "      <td>ALIMENTO PARA PERROS</td>\n",
       "      <td>PERROS</td>\n",
       "      <td>SEGMENTO HIGH PREMIUM</td>\n",
       "      <td>6791.0</td>\n",
       "      <td>GAMA ALTA</td>\n",
       "      <td>NO</td>\n",
       "      <td>MASCOTAS</td>\n",
       "      <td>MASCOTAS</td>\n",
       "      <td>BOL</td>\n",
       "      <td>2016-08-24 11:42:55.000</td>\n",
       "      <td>ITALCOL MASCOTAS</td>\n",
       "      <td>AGILITY PEQUEÑOS CACHORROS X 3 KG</td>\n",
       "      <td>ALIMENTOS CONCENTRADOS</td>\n",
       "    </tr>\n",
       "  </tbody>\n",
       "</table>\n",
       "</div>"
      ],
      "text/plain": [
       "                itemLine category            itemSubline  itemID   itemLevel  \\\n",
       "2  VITAMINAS Y MINERALES     None  FOSFORO PREPARACIONES   746.0   GAMA BAJA   \n",
       "3     IMPLEMENTOS VARIOS     None                   None  7530.0   GAMA BAJA   \n",
       "4   ALIMENTO PARA PERROS     None                 SNACKS  8657.0  GAMA MEDIA   \n",
       "6   ALIMENTO PARA PERROS   PERROS  SEGMENTO HIGH PREMIUM  6791.0   GAMA ALTA   \n",
       "\n",
       "  itemRegulated  itemApplications  businessUnit unitOfMeasure  \\\n",
       "2            NO  GANADERÍA BOVINA  AGROPECUARIO          FCO    \n",
       "3            NO           CONSUMO       CONSUMO          UND    \n",
       "4            NO          MASCOTAS      MASCOTAS          UND    \n",
       "6            NO          MASCOTAS      MASCOTAS          BOL    \n",
       "\n",
       "          itemCreationDate             brand  \\\n",
       "2  2012-11-21 11:37:11.000           KYROVET   \n",
       "3  2017-07-12 18:03:36.000            VARIOS   \n",
       "4  2019-10-02 14:59:21.000          PEDIGREE   \n",
       "6  2016-08-24 11:42:55.000  ITALCOL MASCOTAS   \n",
       "\n",
       "                            itemName               itemGroup  \n",
       "2         KYROFOSFAN NF FCO X 100 ML           FARMACEUTICOS  \n",
       "3         IMPOCONSUMO BOLSA PLASTICA            LINEA VARIOS  \n",
       "4   PEDIGREE MINI BISCUIT X 100 GRMS  ALIMENTOS CONCENTRADOS  \n",
       "6  AGILITY PEQUEÑOS CACHORROS X 3 KG  ALIMENTOS CONCENTRADOS  "
      ]
     },
     "execution_count": 5,
     "metadata": {},
     "output_type": "execute_result"
    }
   ],
   "source": [
    "items.head(4)"
   ]
  },
  {
   "cell_type": "code",
   "execution_count": 6,
   "id": "3261ad87",
   "metadata": {},
   "outputs": [
    {
     "data": {
      "text/html": [
       "<div>\n",
       "<style scoped>\n",
       "    .dataframe tbody tr th:only-of-type {\n",
       "        vertical-align: middle;\n",
       "    }\n",
       "\n",
       "    .dataframe tbody tr th {\n",
       "        vertical-align: top;\n",
       "    }\n",
       "\n",
       "    .dataframe thead th {\n",
       "        text-align: right;\n",
       "    }\n",
       "</style>\n",
       "<table border=\"1\" class=\"dataframe\">\n",
       "  <thead>\n",
       "    <tr style=\"text-align: right;\">\n",
       "      <th></th>\n",
       "      <th>cityId</th>\n",
       "      <th>cityGrouper</th>\n",
       "    </tr>\n",
       "  </thead>\n",
       "  <tbody>\n",
       "    <tr>\n",
       "      <th>2</th>\n",
       "      <td>1.0</td>\n",
       "      <td>Capital</td>\n",
       "    </tr>\n",
       "    <tr>\n",
       "      <th>149</th>\n",
       "      <td>770.0</td>\n",
       "      <td>Non Capital</td>\n",
       "    </tr>\n",
       "    <tr>\n",
       "      <th>246</th>\n",
       "      <td>372.0</td>\n",
       "      <td>Non Capital</td>\n",
       "    </tr>\n",
       "    <tr>\n",
       "      <th>304</th>\n",
       "      <td>836.0</td>\n",
       "      <td>Non Capital</td>\n",
       "    </tr>\n",
       "  </tbody>\n",
       "</table>\n",
       "</div>"
      ],
      "text/plain": [
       "     cityId  cityGrouper\n",
       "2       1.0      Capital\n",
       "149   770.0  Non Capital\n",
       "246   372.0  Non Capital\n",
       "304   836.0  Non Capital"
      ]
     },
     "execution_count": 6,
     "metadata": {},
     "output_type": "execute_result"
    }
   ],
   "source": [
    "cities.head(4)"
   ]
  },
  {
   "cell_type": "markdown",
   "id": "395dabfc",
   "metadata": {},
   "source": [
    "    "
   ]
  },
  {
   "cell_type": "markdown",
   "id": "25eb6e0f",
   "metadata": {},
   "source": [
    "# Business Problems"
   ]
  },
  {
   "cell_type": "markdown",
   "id": "8b6a4458",
   "metadata": {},
   "source": [
    "    "
   ]
  },
  {
   "cell_type": "markdown",
   "id": "58c4bee2",
   "metadata": {},
   "source": [
    "           "
   ]
  },
  {
   "cell_type": "markdown",
   "id": "859baf0d",
   "metadata": {},
   "source": [
    "1. How are our sales grow by day, month and year? Is there a seasonal trend?"
   ]
  },
  {
   "cell_type": "markdown",
   "id": "4072f45e",
   "metadata": {},
   "source": [
    "           "
   ]
  },
  {
   "cell_type": "code",
   "execution_count": 7,
   "id": "b4ac2e6e",
   "metadata": {},
   "outputs": [],
   "source": [
    "sales_ex_1 = sales[['value', 'date']]"
   ]
  },
  {
   "cell_type": "code",
   "execution_count": 8,
   "id": "a12d549b",
   "metadata": {},
   "outputs": [],
   "source": [
    "sales_ex_1_day = sales_ex_1.groupby(by='date').sum().reset_index().sort_values(by='date')\n",
    "sales_ex_1_month = copy.deepcopy(sales_ex_1)\n",
    "sales_ex_1_month['month_year'] = pd.to_datetime(sales_ex_1.date).dt.to_period('M')\n",
    "sales_ex_1_month = sales_ex_1_month.groupby(by='month_year').sum().reset_index().sort_values(by='month_year')\n",
    "sales_ex_1_month.month_year = sales_ex_1_month.month_year.astype('str')\n",
    "sales_ex_1_year = copy.deepcopy(sales_ex_1)\n",
    "sales_ex_1_year['year'] = pd.to_datetime(sales_ex_1.date).dt.year\n",
    "sales_ex_1_year = sales_ex_1_year.groupby(by='year').sum().reset_index().sort_values(by='year')\n",
    "sales_ex_1_year.year = sales_ex_1_year.year.astype('str')"
   ]
  },
  {
   "cell_type": "code",
   "execution_count": null,
   "id": "46a53085",
   "metadata": {},
   "outputs": [],
   "source": [
    "fig = px.line(sales_ex_1_day, x=\"date\", y=\"value\", title='Sales by day')\n",
    "fig.update_traces(line_color='#1C70C9')\n",
    "fig.show()"
   ]
  },
  {
   "cell_type": "code",
   "execution_count": null,
   "id": "17d13001",
   "metadata": {},
   "outputs": [],
   "source": [
    "fig = px.line(sales_ex_1_month, x=\"month_year\", y=\"value\", title='Sales by month')\n",
    "fig.update_traces(line_color='#A31F34')\n",
    "fig.show()"
   ]
  },
  {
   "cell_type": "code",
   "execution_count": null,
   "id": "483c9808",
   "metadata": {},
   "outputs": [],
   "source": [
    "fig = px.line(sales_ex_1_year, x=\"year\", y=\"value\", title='Sales by year')\n",
    "fig.show()"
   ]
  },
  {
   "cell_type": "markdown",
   "id": "d17460d4",
   "metadata": {},
   "source": [
    "There is a problem with the last two graphs. We don have full info about October and the 2021 for make a good comparison. In the case of the month periodical graph the solution could be skip October-2021 and take into account the other months. In case of year graph is not as simple because we only have two years, then could be better to use the mean instead of the sum of values by day. "
   ]
  },
  {
   "cell_type": "code",
   "execution_count": null,
   "id": "7b7041f8",
   "metadata": {},
   "outputs": [],
   "source": [
    "# Months without October-2021\n",
    "fig = px.line(sales_ex_1_month.iloc[:-1, :], x=\"month_year\", y=\"value\", title='Sales by month')\n",
    "fig.update_traces(line_color='#A31F34')\n",
    "fig.show()"
   ]
  },
  {
   "cell_type": "code",
   "execution_count": null,
   "id": "a0eb9032",
   "metadata": {},
   "outputs": [],
   "source": [
    "# average_year\n",
    "sales_ex_1_year = copy.deepcopy(sales_ex_1)\n",
    "sales_ex_1_year['year'] = pd.to_datetime(sales_ex_1.date).dt.year\n",
    "sales_ex_1_year = sales_ex_1_year.groupby(by='year').mean().reset_index().sort_values(by='year')\n",
    "sales_ex_1_year.year = sales_ex_1_year.year.astype('str')\n",
    "fig = px.line(sales_ex_1_year, x=\"year\", y=\"value\", title='Sales by year')\n",
    "fig.show()"
   ]
  },
  {
   "cell_type": "markdown",
   "id": "666ccb99",
   "metadata": {},
   "source": [
    "That shows the opposite trend! Which means that the average sales in 2021 have been better than the average sales in 2021"
   ]
  },
  {
   "cell_type": "markdown",
   "id": "c98b732b",
   "metadata": {},
   "source": [
    "Is there an seasonal trend? We can't say that watching year and month plots but lets take a closer look in days. What if we analyze sales by day of week? What could we find?"
   ]
  },
  {
   "cell_type": "code",
   "execution_count": null,
   "id": "074c8f02",
   "metadata": {},
   "outputs": [],
   "source": [
    "sales_ex_1_day = sales_ex_1.groupby(by='date').sum().reset_index().sort_values(by='date')\n",
    "sales_ex_1_day['day_of_week'] = pd.to_datetime(sales_ex_1_day.date).dt.weekday\n",
    "sales_ex_1_day = sales_ex_1_day.groupby(by='day_of_week').mean().reset_index()\n",
    "replace_days = {0:'Mon',1:'Tue',2:'Wed',3:'Thu',4:'Fri',5:'Sat',6:'Sun'}\n",
    "sales_ex_1_day['day_name'] = sales_ex_1_day['day_of_week'].replace(replace_days)"
   ]
  },
  {
   "cell_type": "code",
   "execution_count": null,
   "id": "e3dac1b1",
   "metadata": {},
   "outputs": [],
   "source": [
    "fig = px.bar(sales_ex_1_day, x='day_name', y='value', color='day_name', title='Average of sales by weekday')\n",
    "fig.show()"
   ]
  },
  {
   "cell_type": "markdown",
   "id": "992fc523",
   "metadata": {},
   "source": [
    "From the graph above we can conclude that there is a clear seasonal trend: the Sundays the average value of sales decreases a lot, maybe because that day the store is not open all the day or is just working online."
   ]
  },
  {
   "cell_type": "code",
   "execution_count": null,
   "id": "e3488a66",
   "metadata": {},
   "outputs": [],
   "source": [
    "# Cleaning memory\n",
    "\n",
    "del replace_days\n",
    "del fig\n",
    "del sales_ex_1\n",
    "del sales_ex_1_day \n",
    "del sales_ex_1_month \n",
    "del sales_ex_1_year"
   ]
  },
  {
   "cell_type": "markdown",
   "id": "e88863aa",
   "metadata": {},
   "source": [
    "------------------------"
   ]
  },
  {
   "cell_type": "markdown",
   "id": "02ef3a4b",
   "metadata": {},
   "source": [
    "         "
   ]
  },
  {
   "cell_type": "markdown",
   "id": "d52bae77",
   "metadata": {},
   "source": [
    "2. How is the distribution of our sales by the use/application of each item for our customer"
   ]
  },
  {
   "cell_type": "markdown",
   "id": "19ab8a5e",
   "metadata": {},
   "source": [
    "             "
   ]
  },
  {
   "cell_type": "markdown",
   "id": "d67f5965",
   "metadata": {},
   "source": [
    "First, we see that there is a lot more productos for pets than for other categories. "
   ]
  },
  {
   "cell_type": "code",
   "execution_count": null,
   "id": "2cb360ad",
   "metadata": {},
   "outputs": [],
   "source": [
    "item_applications_ex_2 = items.itemApplications.value_counts().reset_index().rename(columns = {\n",
    "                                                            'index':'itemApplications', \n",
    "                                                            'itemApplications':'quantity'})"
   ]
  },
  {
   "cell_type": "code",
   "execution_count": null,
   "id": "f9337aae",
   "metadata": {},
   "outputs": [],
   "source": [
    "fig = px.pie(item_applications_ex_2, values='quantity', names='itemApplications', \n",
    "             title='Quantity of items by itemApplications')\n",
    "fig.show()"
   ]
  },
  {
   "cell_type": "markdown",
   "id": "7776c4fb",
   "metadata": {},
   "source": [
    "Does that trend remains over our sales?"
   ]
  },
  {
   "cell_type": "code",
   "execution_count": null,
   "id": "2825aaab",
   "metadata": {},
   "outputs": [],
   "source": [
    "sales_ex_2 = copy.deepcopy(sales)\n",
    "items_ex_2 = copy.deepcopy(items)\n",
    "sales_ex_2 = sales_ex_2[['itemID', 'value']]\n",
    "sales_ex_2 = sales_ex_2.dropna()\n",
    "items_ex_2 = items_ex_2[['itemID', 'itemApplications']]\n",
    "merge_ex_2 = sales_ex_2.merge(items_ex_2, how='inner', left_on='itemID', right_on='itemID').drop(columns='itemID')"
   ]
  },
  {
   "cell_type": "code",
   "execution_count": null,
   "id": "108552f0",
   "metadata": {},
   "outputs": [],
   "source": [
    "merge_ex_2_sum = merge_ex_2.groupby(by='itemApplications').sum().reset_index()\n",
    "fig = px.pie(merge_ex_2_sum, values='value', names='itemApplications', title='Sales by itemApplications')\n",
    "fig.show()"
   ]
  },
  {
   "cell_type": "markdown",
   "id": "3d4f20f6",
   "metadata": {},
   "source": [
    "Actually the sales of each category has correspondence with the quantity of products that we have per each line. This can indicates a behaviour that the shop has been having across its existence: The product lines with more sales have been increasing faster than the others. However, the participation of pet products on the total sales is smaller than its participation over items and the participation of agricultural products in sales is much bigger than its participation on items. Maybe could be interesting to explore the possibility of increase the item stock that we have on agricultural products in the future. Lets see another chart of average sale by each category. take into account that this average is done over the Ticket detailed and not over the whole sale done by a client at a time."
   ]
  },
  {
   "cell_type": "code",
   "execution_count": null,
   "id": "7d039e46",
   "metadata": {},
   "outputs": [],
   "source": [
    "merge_ex_2_mean = merge_ex_2.groupby(by='itemApplications').mean().reset_index()\n",
    "fig = px.pie(merge_ex_2_mean, values='value', names='itemApplications', title='Average sales by itemApplications')\n",
    "fig.show()"
   ]
  },
  {
   "cell_type": "markdown",
   "id": "9566e347",
   "metadata": {},
   "source": [
    "What a surprise! Products with small participation over the item type and the total sales have the biggest average sale value! What can that mean? Maybe those are the most expensive products but just a little portion of customers buy into this line. Thats an attention call, there could be a big market concentration in this products."
   ]
  },
  {
   "cell_type": "code",
   "execution_count": null,
   "id": "50faa6d4",
   "metadata": {},
   "outputs": [],
   "source": [
    "# Cleaning memory\n",
    "\n",
    "del item_applications_ex_2\n",
    "del sales_ex_2 \n",
    "del items_ex_2\n",
    "del merge_ex_2\n",
    "del merge_ex_2_sum\n",
    "del merge_ex_2_mean\n",
    "del fig"
   ]
  },
  {
   "cell_type": "markdown",
   "id": "7637ad88",
   "metadata": {},
   "source": [
    "--------------------------"
   ]
  },
  {
   "cell_type": "markdown",
   "id": "54321fd8",
   "metadata": {},
   "source": [
    "            "
   ]
  },
  {
   "cell_type": "markdown",
   "id": "e9172c1e",
   "metadata": {},
   "source": [
    "3. Why our sales have fall from Jun 2021 to Sept 2021?"
   ]
  },
  {
   "cell_type": "markdown",
   "id": "f3221c05",
   "metadata": {},
   "source": [
    "           "
   ]
  },
  {
   "cell_type": "code",
   "execution_count": null,
   "id": "9d114ec1",
   "metadata": {
    "scrolled": false
   },
   "outputs": [],
   "source": [
    "grouper_list = ['itemApplications', 'itemRegulated',\n",
    "       'businessUnit', 'itemGroup', 'category', 'itemLevel']\n",
    "for grouper_variable in grouper_list:\n",
    "    sales_ex_3 = copy.deepcopy(sales)\n",
    "    items_ex_3 = copy.deepcopy(items)\n",
    "    sales_ex_3 = sales_ex_3[['date','itemID', 'value']]\n",
    "    sales_ex_3 = sales_ex_3.dropna()\n",
    "    items_ex_3 = items_ex_3[['itemID', grouper_variable]]\n",
    "    merge_ex_3 = sales_ex_3.merge(items_ex_3, how='inner', left_on='itemID', right_on='itemID').drop(columns='itemID')\n",
    "    merge_ex_3.date = pd.to_datetime(merge_ex_3.date)\n",
    "    merge_ex_3.date = merge_ex_3.date.dt.to_period('M')\n",
    "    merge_ex_3 = merge_ex_3.sort_values(by='date').groupby(by=['date', grouper_variable]).sum().reset_index()\n",
    "    merge_ex_3.date = merge_ex_3.date.astype(str)\n",
    "    fig = px.area(merge_ex_3, x=\"date\", y=\"value\", color=grouper_variable, title=f'Area sales by {grouper_variable}')\n",
    "    fig.show()"
   ]
  },
  {
   "cell_type": "code",
   "execution_count": null,
   "id": "f0111f2c",
   "metadata": {},
   "outputs": [],
   "source": [
    "def isPDV(value):\n",
    "    if value == 'PDV':\n",
    "        return True\n",
    "    else:\n",
    "        return False"
   ]
  },
  {
   "cell_type": "code",
   "execution_count": null,
   "id": "6e6ef5d5",
   "metadata": {},
   "outputs": [],
   "source": [
    "customers['PDV_or_not'] = customers.customerID.apply(isPDV)"
   ]
  },
  {
   "cell_type": "code",
   "execution_count": null,
   "id": "84223e62",
   "metadata": {},
   "outputs": [],
   "source": [
    "grouper_list = ['cityId', 'gender', 'PDV_or_not']\n",
    "for grouper_variable in grouper_list:\n",
    "    sales_ex_3 = copy.deepcopy(sales)\n",
    "    items_ex_3 = copy.deepcopy(customers)\n",
    "    sales_ex_3 = sales_ex_3[['date','customerID', 'value']]\n",
    "    sales_ex_3 = sales_ex_3.dropna()\n",
    "    items_ex_3 = items_ex_3[['customerID', grouper_variable]]\n",
    "    merge_ex_3 = sales_ex_3.merge(items_ex_3, how='inner', left_on='customerID', \n",
    "                                  right_on='customerID').drop(columns='customerID')\n",
    "    merge_ex_3.date = pd.to_datetime(merge_ex_3.date)\n",
    "    merge_ex_3.date = merge_ex_3.date.dt.to_period('M')\n",
    "    merge_ex_3 = merge_ex_3.sort_values(by='date').groupby(by=['date', grouper_variable]).sum().reset_index()\n",
    "    merge_ex_3.date = merge_ex_3.date.astype(str)\n",
    "    fig = px.area(merge_ex_3, x=\"date\", y=\"value\", color=grouper_variable, title=f'Area sales by {grouper_variable}')\n",
    "    fig.show()"
   ]
  },
  {
   "cell_type": "code",
   "execution_count": null,
   "id": "c3f1767e",
   "metadata": {
    "scrolled": false
   },
   "outputs": [],
   "source": [
    "grouper_list = ['createdBy', 'idType','paymentMethod','storeID']\n",
    "for grouper_variable in grouper_list:\n",
    "    sales_ex_3 = copy.deepcopy(sales)\n",
    "    items_ex_3 = copy.deepcopy(customers)\n",
    "    sales_ex_3 = sales_ex_3[['date','customerID', 'value', grouper_variable]]\n",
    "    sales_ex_3 = sales_ex_3.dropna()\n",
    "    items_ex_3 = items_ex_3[['customerID']]\n",
    "    merge_ex_3 = sales_ex_3.merge(items_ex_3, how='inner', left_on='customerID', \n",
    "                                  right_on='customerID').drop(columns='customerID')\n",
    "    merge_ex_3.date = pd.to_datetime(merge_ex_3.date)\n",
    "    merge_ex_3.date = merge_ex_3.date.dt.to_period('M')\n",
    "    merge_ex_3 = merge_ex_3.sort_values(by='date').groupby(by=['date', grouper_variable]).sum().reset_index()\n",
    "    merge_ex_3.date = merge_ex_3.date.astype(str)\n",
    "    fig = px.area(merge_ex_3, x=\"date\", y=\"value\", color=grouper_variable, title=f'Area sales by {grouper_variable}')\n",
    "    fig.show()"
   ]
  },
  {
   "cell_type": "markdown",
   "id": "e583cc09",
   "metadata": {},
   "source": [
    "All the variables seem to fall uniformly, so the drop in sales does not seem to be associated with the drop in any special category of sales. It seems that the last few months have been randomly chosen, gradually reducing the amount of daily sales or their value. "
   ]
  }
 ],
 "metadata": {
  "kernelspec": {
   "display_name": "Python 3 (ipykernel)",
   "language": "python",
   "name": "python3"
  },
  "language_info": {
   "codemirror_mode": {
    "name": "ipython",
    "version": 3
   },
   "file_extension": ".py",
   "mimetype": "text/x-python",
   "name": "python",
   "nbconvert_exporter": "python",
   "pygments_lexer": "ipython3",
   "version": "3.9.12"
  }
 },
 "nbformat": 4,
 "nbformat_minor": 5
}
